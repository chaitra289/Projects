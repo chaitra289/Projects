{
 "cells": [
  {
   "cell_type": "markdown",
   "id": "c4fb26b6",
   "metadata": {},
   "source": [
    "# Stock Prediction And Forecasting:\n"
   ]
  },
  {
   "cell_type": "code",
   "execution_count": 1,
   "id": "b57f3c4a",
   "metadata": {},
   "outputs": [
    {
     "name": "stdout",
     "output_type": "stream",
     "text": [
      "            Date         Open         High          Low        Close  \\\n",
      "0     2015-11-18   463.799988   465.649994   454.975006   456.000000   \n",
      "1     2015-11-19   459.450012   469.350006   458.625000   467.375000   \n",
      "2     2015-11-20   467.000000   476.399994   462.774994   473.424988   \n",
      "3     2015-11-23   475.000000   478.950012   473.100006   476.875000   \n",
      "4     2015-11-24   476.500000   485.799988   475.524994   483.850006   \n",
      "...          ...          ...          ...          ...          ...   \n",
      "1228  2020-11-10  2077.000000  2090.000000  2041.199951  2084.550049   \n",
      "1229  2020-11-11  2089.000000  2095.000000  1978.099976  1997.199951   \n",
      "1230  2020-11-12  1981.000000  2008.449951  1965.000000  1980.000000   \n",
      "1231  2020-11-13  1982.000000  2036.650024  1981.750000  1996.400024   \n",
      "1232  2020-11-17  2085.000000  2085.000000  1985.000000  1993.250000   \n",
      "\n",
      "        Adj Close      Volume  \n",
      "0      436.671021   5142766.0  \n",
      "1      447.563873   5569752.0  \n",
      "2      453.357422   5167930.0  \n",
      "3      456.661224   4800026.0  \n",
      "4      463.340515   6768886.0  \n",
      "...           ...         ...  \n",
      "1228  2084.550049  17045147.0  \n",
      "1229  1997.199951  26178477.0  \n",
      "1230  1980.000000  18481466.0  \n",
      "1231  1996.400024  20946864.0  \n",
      "1232  1993.250000  21479385.0  \n",
      "\n",
      "[1233 rows x 7 columns]\n"
     ]
    }
   ],
   "source": [
    "import pandas as pd\n",
    "d=pd.read_csv('Reliance.csv')\n",
    "print(d)"
   ]
  },
  {
   "cell_type": "code",
   "execution_count": 2,
   "id": "e9bca616",
   "metadata": {},
   "outputs": [
    {
     "data": {
      "text/html": [
       "<div>\n",
       "<style scoped>\n",
       "    .dataframe tbody tr th:only-of-type {\n",
       "        vertical-align: middle;\n",
       "    }\n",
       "\n",
       "    .dataframe tbody tr th {\n",
       "        vertical-align: top;\n",
       "    }\n",
       "\n",
       "    .dataframe thead th {\n",
       "        text-align: right;\n",
       "    }\n",
       "</style>\n",
       "<table border=\"1\" class=\"dataframe\">\n",
       "  <thead>\n",
       "    <tr style=\"text-align: right;\">\n",
       "      <th></th>\n",
       "      <th>Date</th>\n",
       "      <th>Open</th>\n",
       "      <th>High</th>\n",
       "      <th>Low</th>\n",
       "      <th>Close</th>\n",
       "      <th>Adj Close</th>\n",
       "      <th>Volume</th>\n",
       "    </tr>\n",
       "  </thead>\n",
       "  <tbody>\n",
       "    <tr>\n",
       "      <th>0</th>\n",
       "      <td>2015-11-18</td>\n",
       "      <td>463.799988</td>\n",
       "      <td>465.649994</td>\n",
       "      <td>454.975006</td>\n",
       "      <td>456.000000</td>\n",
       "      <td>436.671021</td>\n",
       "      <td>5142766.0</td>\n",
       "    </tr>\n",
       "    <tr>\n",
       "      <th>1</th>\n",
       "      <td>2015-11-19</td>\n",
       "      <td>459.450012</td>\n",
       "      <td>469.350006</td>\n",
       "      <td>458.625000</td>\n",
       "      <td>467.375000</td>\n",
       "      <td>447.563873</td>\n",
       "      <td>5569752.0</td>\n",
       "    </tr>\n",
       "    <tr>\n",
       "      <th>2</th>\n",
       "      <td>2015-11-20</td>\n",
       "      <td>467.000000</td>\n",
       "      <td>476.399994</td>\n",
       "      <td>462.774994</td>\n",
       "      <td>473.424988</td>\n",
       "      <td>453.357422</td>\n",
       "      <td>5167930.0</td>\n",
       "    </tr>\n",
       "    <tr>\n",
       "      <th>3</th>\n",
       "      <td>2015-11-23</td>\n",
       "      <td>475.000000</td>\n",
       "      <td>478.950012</td>\n",
       "      <td>473.100006</td>\n",
       "      <td>476.875000</td>\n",
       "      <td>456.661224</td>\n",
       "      <td>4800026.0</td>\n",
       "    </tr>\n",
       "    <tr>\n",
       "      <th>4</th>\n",
       "      <td>2015-11-24</td>\n",
       "      <td>476.500000</td>\n",
       "      <td>485.799988</td>\n",
       "      <td>475.524994</td>\n",
       "      <td>483.850006</td>\n",
       "      <td>463.340515</td>\n",
       "      <td>6768886.0</td>\n",
       "    </tr>\n",
       "  </tbody>\n",
       "</table>\n",
       "</div>"
      ],
      "text/plain": [
       "         Date        Open        High         Low       Close   Adj Close  \\\n",
       "0  2015-11-18  463.799988  465.649994  454.975006  456.000000  436.671021   \n",
       "1  2015-11-19  459.450012  469.350006  458.625000  467.375000  447.563873   \n",
       "2  2015-11-20  467.000000  476.399994  462.774994  473.424988  453.357422   \n",
       "3  2015-11-23  475.000000  478.950012  473.100006  476.875000  456.661224   \n",
       "4  2015-11-24  476.500000  485.799988  475.524994  483.850006  463.340515   \n",
       "\n",
       "      Volume  \n",
       "0  5142766.0  \n",
       "1  5569752.0  \n",
       "2  5167930.0  \n",
       "3  4800026.0  \n",
       "4  6768886.0  "
      ]
     },
     "execution_count": 2,
     "metadata": {},
     "output_type": "execute_result"
    }
   ],
   "source": [
    "d.head()"
   ]
  },
  {
   "cell_type": "code",
   "execution_count": 3,
   "id": "a4d948e1",
   "metadata": {},
   "outputs": [
    {
     "data": {
      "text/html": [
       "<div>\n",
       "<style scoped>\n",
       "    .dataframe tbody tr th:only-of-type {\n",
       "        vertical-align: middle;\n",
       "    }\n",
       "\n",
       "    .dataframe tbody tr th {\n",
       "        vertical-align: top;\n",
       "    }\n",
       "\n",
       "    .dataframe thead th {\n",
       "        text-align: right;\n",
       "    }\n",
       "</style>\n",
       "<table border=\"1\" class=\"dataframe\">\n",
       "  <thead>\n",
       "    <tr style=\"text-align: right;\">\n",
       "      <th></th>\n",
       "      <th>Date</th>\n",
       "      <th>Open</th>\n",
       "      <th>High</th>\n",
       "      <th>Low</th>\n",
       "      <th>Close</th>\n",
       "      <th>Adj Close</th>\n",
       "      <th>Volume</th>\n",
       "    </tr>\n",
       "  </thead>\n",
       "  <tbody>\n",
       "    <tr>\n",
       "      <th>1228</th>\n",
       "      <td>2020-11-10</td>\n",
       "      <td>2077.0</td>\n",
       "      <td>2090.000000</td>\n",
       "      <td>2041.199951</td>\n",
       "      <td>2084.550049</td>\n",
       "      <td>2084.550049</td>\n",
       "      <td>17045147.0</td>\n",
       "    </tr>\n",
       "    <tr>\n",
       "      <th>1229</th>\n",
       "      <td>2020-11-11</td>\n",
       "      <td>2089.0</td>\n",
       "      <td>2095.000000</td>\n",
       "      <td>1978.099976</td>\n",
       "      <td>1997.199951</td>\n",
       "      <td>1997.199951</td>\n",
       "      <td>26178477.0</td>\n",
       "    </tr>\n",
       "    <tr>\n",
       "      <th>1230</th>\n",
       "      <td>2020-11-12</td>\n",
       "      <td>1981.0</td>\n",
       "      <td>2008.449951</td>\n",
       "      <td>1965.000000</td>\n",
       "      <td>1980.000000</td>\n",
       "      <td>1980.000000</td>\n",
       "      <td>18481466.0</td>\n",
       "    </tr>\n",
       "    <tr>\n",
       "      <th>1231</th>\n",
       "      <td>2020-11-13</td>\n",
       "      <td>1982.0</td>\n",
       "      <td>2036.650024</td>\n",
       "      <td>1981.750000</td>\n",
       "      <td>1996.400024</td>\n",
       "      <td>1996.400024</td>\n",
       "      <td>20946864.0</td>\n",
       "    </tr>\n",
       "    <tr>\n",
       "      <th>1232</th>\n",
       "      <td>2020-11-17</td>\n",
       "      <td>2085.0</td>\n",
       "      <td>2085.000000</td>\n",
       "      <td>1985.000000</td>\n",
       "      <td>1993.250000</td>\n",
       "      <td>1993.250000</td>\n",
       "      <td>21479385.0</td>\n",
       "    </tr>\n",
       "  </tbody>\n",
       "</table>\n",
       "</div>"
      ],
      "text/plain": [
       "            Date    Open         High          Low        Close    Adj Close  \\\n",
       "1228  2020-11-10  2077.0  2090.000000  2041.199951  2084.550049  2084.550049   \n",
       "1229  2020-11-11  2089.0  2095.000000  1978.099976  1997.199951  1997.199951   \n",
       "1230  2020-11-12  1981.0  2008.449951  1965.000000  1980.000000  1980.000000   \n",
       "1231  2020-11-13  1982.0  2036.650024  1981.750000  1996.400024  1996.400024   \n",
       "1232  2020-11-17  2085.0  2085.000000  1985.000000  1993.250000  1993.250000   \n",
       "\n",
       "          Volume  \n",
       "1228  17045147.0  \n",
       "1229  26178477.0  \n",
       "1230  18481466.0  \n",
       "1231  20946864.0  \n",
       "1232  21479385.0  "
      ]
     },
     "execution_count": 3,
     "metadata": {},
     "output_type": "execute_result"
    }
   ],
   "source": [
    "d.tail()"
   ]
  },
  {
   "cell_type": "code",
   "execution_count": 4,
   "id": "ea6cc441",
   "metadata": {},
   "outputs": [],
   "source": [
    "d_close = d['Close']"
   ]
  },
  {
   "cell_type": "code",
   "execution_count": 5,
   "id": "b0693cac",
   "metadata": {},
   "outputs": [
    {
     "data": {
      "text/plain": [
       "(1233,)"
      ]
     },
     "execution_count": 5,
     "metadata": {},
     "output_type": "execute_result"
    }
   ],
   "source": [
    "d_close.shape"
   ]
  },
  {
   "cell_type": "code",
   "execution_count": 7,
   "id": "57ffbca3",
   "metadata": {},
   "outputs": [
    {
     "data": {
      "text/plain": [
       "[<matplotlib.lines.Line2D at 0x240e9acefd0>]"
      ]
     },
     "execution_count": 7,
     "metadata": {},
     "output_type": "execute_result"
    },
    {
     "data": {
      "image/png": "[encoded data removed]",
      "text/plain": [
       "<Figure size 432x288 with 1 Axes>"
      ]
     },
     "metadata": {
      "needs_background": "light"
     },
     "output_type": "display_data"
    }
   ],
   "source": [
    "import matplotlib.pyplot as plt\n",
    "plt.plot(d_close)"
   ]
  },
  {
   "cell_type": "code",
   "execution_count": 11,
   "id": "009e2dbc",
   "metadata": {},
   "outputs": [
    {
     "data": {
      "text/plain": [
       "(1233, 1)"
      ]
     },
     "execution_count": 11,
     "metadata": {},
     "output_type": "execute_result"
    }
   ],
   "source": [
    "import numpy as np\n",
    "from sklearn.preprocessing import MinMaxScaler\n",
    "scaler = MinMaxScaler(feature_range = (0,1))\n",
    "d_close = scaler.fit_transform(np.array(d_close).reshape(-1,1))\n",
    "d_close.shape"
   ]
  },
  {
   "cell_type": "code",
   "execution_count": 12,
   "id": "dc20d8a3",
   "metadata": {},
   "outputs": [
    {
     "data": {
      "text/plain": [
       "array([[0.00145623],\n",
       "       [0.00753497],\n",
       "       [0.01076806],\n",
       "       ...,\n",
       "       [0.81587418],\n",
       "       [0.82463827],\n",
       "       [0.82295492]])"
      ]
     },
     "execution_count": 12,
     "metadata": {},
     "output_type": "execute_result"
    }
   ],
   "source": [
    "d_close"
   ]
  },
  {
   "cell_type": "code",
   "execution_count": 20,
   "id": "66095155",
   "metadata": {},
   "outputs": [
    {
     "data": {
      "text/plain": [
       "array([[[0.43963337],\n",
       "        [0.43696139],\n",
       "        [0.42402906],\n",
       "        ...,\n",
       "        [0.58271763],\n",
       "        [0.57507582],\n",
       "        [0.5721099 ]],\n",
       "\n",
       "       [[0.43696139],\n",
       "        [0.42402906],\n",
       "        [0.43957994],\n",
       "        ...,\n",
       "        [0.57507582],\n",
       "        [0.5721099 ],\n",
       "        [0.57961817]],\n",
       "\n",
       "       [[0.42402906],\n",
       "        [0.43957994],\n",
       "        [0.43474371],\n",
       "        ...,\n",
       "        [0.5721099 ],\n",
       "        [0.57961817],\n",
       "        [0.60265058]],\n",
       "\n",
       "       ...,\n",
       "\n",
       "       [[0.67741246],\n",
       "        [0.68112648],\n",
       "        [0.67580927],\n",
       "        ...,\n",
       "        [0.84213971],\n",
       "        [0.85365588],\n",
       "        [0.8717452 ]],\n",
       "\n",
       "       [[0.68112648],\n",
       "        [0.67580927],\n",
       "        [0.68850115],\n",
       "        ...,\n",
       "        [0.85365588],\n",
       "        [0.8717452 ],\n",
       "        [0.82506575]],\n",
       "\n",
       "       [[0.67580927],\n",
       "        [0.68850115],\n",
       "        [0.67861484],\n",
       "        ...,\n",
       "        [0.8717452 ],\n",
       "        [0.82506575],\n",
       "        [0.81587418]]])"
      ]
     },
     "execution_count": 20,
     "metadata": {},
     "output_type": "execute_result"
    }
   ],
   "source": [
    "training_size = int(len(d_close) * 0.75)\n",
    "test_size = len(d_close) - training_size\n",
    "train_data, test_data = d_close[0:training_size,:], d_close[training_size:len(d_close),:1]\n",
    "def create_dataset(dataset, time_step = 1):\n",
    "    dataX, dataY = [], []\n",
    "    for i in range(len(dataset) - time_step - 1):\n",
    "        a = dataset[i:(i+time_step), 0]\n",
    "        dataX.append(a)\n",
    "        dataY.append(dataset[i+time_step, 0])\n",
    "    return np.array(dataX), np.array(dataY)\n",
    "time_step = 100\n",
    "x_train, y_train = create_dataset(train_data, time_step)\n",
    "x_test, y_test = create_dataset(test_data, time_step)\n",
    "x_test, y_test"
   ]
  },
  {
   "cell_type": "code",
   "execution_count": 21,
   "id": "05697654",
   "metadata": {},
   "outputs": [
    {
     "data": {
      "text/plain": [
       "array([[[0.43963337],\n",
       "        [0.43696139],\n",
       "        [0.42402906],\n",
       "        ...,\n",
       "        [0.58271763],\n",
       "        [0.57507582],\n",
       "        [0.5721099 ]],\n",
       "\n",
       "       [[0.43696139],\n",
       "        [0.42402906],\n",
       "        [0.43957994],\n",
       "        ...,\n",
       "        [0.57507582],\n",
       "        [0.5721099 ],\n",
       "        [0.57961817]],\n",
       "\n",
       "       [[0.42402906],\n",
       "        [0.43957994],\n",
       "        [0.43474371],\n",
       "        ...,\n",
       "        [0.5721099 ],\n",
       "        [0.57961817],\n",
       "        [0.60265058]],\n",
       "\n",
       "       ...,\n",
       "\n",
       "       [[0.67741246],\n",
       "        [0.68112648],\n",
       "        [0.67580927],\n",
       "        ...,\n",
       "        [0.84213971],\n",
       "        [0.85365588],\n",
       "        [0.8717452 ]],\n",
       "\n",
       "       [[0.68112648],\n",
       "        [0.67580927],\n",
       "        [0.68850115],\n",
       "        ...,\n",
       "        [0.85365588],\n",
       "        [0.8717452 ],\n",
       "        [0.82506575]],\n",
       "\n",
       "       [[0.67580927],\n",
       "        [0.68850115],\n",
       "        [0.67861484],\n",
       "        ...,\n",
       "        [0.8717452 ],\n",
       "        [0.82506575],\n",
       "        [0.81587418]]])"
      ]
     },
     "execution_count": 21,
     "metadata": {},
     "output_type": "execute_result"
    }
   ],
   "source": [
    "x_train = x_train.reshape(x_train.shape[0], x_train.shape[1], 1)\n",
    "x_train\n",
    "x_test = x_test.reshape(x_test.shape[0], x_test.shape[1], 1)\n",
    "x_test"
   ]
  },
  {
   "cell_type": "code",
   "execution_count": 35,
   "id": "9a5fc5fd",
   "metadata": {},
   "outputs": [
    {
     "data": {
      "text/plain": [
       "(1, 0)"
      ]
     },
     "execution_count": 35,
     "metadata": {},
     "output_type": "execute_result"
    }
   ],
   "source": [
    "x_input=test_data[341:].reshape(1,-1)\n",
    "x_input.shape\n",
    "\n"
   ]
  },
  {
   "cell_type": "code",
   "execution_count": 37,
   "id": "6c75e682",
   "metadata": {},
   "outputs": [
    {
     "data": {
      "text/plain": [
       "[]"
      ]
     },
     "execution_count": 37,
     "metadata": {},
     "output_type": "execute_result"
    }
   ],
   "source": [
    "temp_input=list(x_input)\n",
    "temp_input=temp_input[0].tolist()\n",
    "temp_input"
   ]
  },
  {
   "cell_type": "code",
   "execution_count": 41,
   "id": "d8bfb01e",
   "metadata": {},
   "outputs": [
    {
     "data": {
      "text/plain": [
       "array([101, 102, 103, 104, 105, 106, 107, 108, 109, 110, 111, 112, 113,\n",
       "       114, 115, 116, 117, 118, 119, 120, 121, 122, 123, 124, 125, 126,\n",
       "       127, 128, 129, 130])"
      ]
     },
     "execution_count": 41,
     "metadata": {},
     "output_type": "execute_result"
    }
   ],
   "source": [
    "day_new=np.arange(1,101)\n",
    "day_new\n"
   ]
  },
  {
   "cell_type": "code",
   "execution_count": 42,
   "id": "38141a05",
   "metadata": {},
   "outputs": [
    {
     "data": {
      "text/plain": [
       "array([101, 102, 103, 104, 105, 106, 107, 108, 109, 110, 111, 112, 113,\n",
       "       114, 115, 116, 117, 118, 119, 120, 121, 122, 123, 124, 125, 126,\n",
       "       127, 128, 129, 130])"
      ]
     },
     "execution_count": 42,
     "metadata": {},
     "output_type": "execute_result"
    }
   ],
   "source": [
    "day_pred=np.arange(101,131)\n",
    "day_pred"
   ]
  },
  {
   "cell_type": "code",
   "execution_count": 43,
   "id": "87baefe6",
   "metadata": {},
   "outputs": [
    {
     "data": {
      "text/plain": [
       "1233"
      ]
     },
     "execution_count": 43,
     "metadata": {},
     "output_type": "execute_result"
    }
   ],
   "source": [
    "import matplotlib.pyplot as plt\n",
    "len(d)"
   ]
  },
  {
   "cell_type": "code",
   "execution_count": 51,
   "id": "54d6e2b6",
   "metadata": {},
   "outputs": [],
   "source": [
    "import pandas as pd\n",
    "import numpy as np\n",
    "import scipy.stats\n",
    "\n",
    "class Statistics:\n",
    "    def __init__(self,series):\n",
    "        self.series = np.array(series)\n",
    "        self.n = len(series)\n",
    "    def mean(self):\n",
    "        return np.mean(self.series)\n",
    "    def std(self):\n",
    "        return np.std(self.series)\n",
    "    def stderr(self):\n",
    "        return scipy.stats.sem(self.series)\n",
    "    def percentiles(self,p=[.25,.5,.75]):\n",
    "        return pd.Series(self.series).describe(percentiles=p)\n",
    "    def pos_perc(self):\n",
    "        return 100*sum(self.series>0)/self.n\n",
    "    def skewness(self):\n",
    "        return scipy.stats.skew(self.series)\n",
    "    def kurtosis(self):\n",
    "        return scipy.stats.kurtosis(self.series)\n",
    "    def VaR(self,confidence):\n",
    "        indx = int(confidence*self.n/100)\n",
    "        return sorted(self.series)[indx-1]\n",
    "    def CVaR(self,confidence):\n",
    "        indx = int(confidence*self.n/100)\n",
    "        return sum(sorted(self.series)[:indx])/indx\n",
    "    def MDD(self):\n",
    "        money = np.cumprod(1+self.series/100)\n",
    "        maximums = np.maximum.accumulate(money)\n",
    "        drawdowns = 1 - money/maximums\n",
    "        return np.max(drawdowns)\n",
    "    def sharpe(self,risk_free_rate = 0.0003):\n",
    "        mu = self.mean()\n",
    "        sig = self.std()\n",
    "        sharpe_d = (mu-risk_free_rate)/sig\n",
    "        return (252**0.5)*sharpe_d \n",
    "    def shortreport(self):\n",
    "        print('Mean \\t\\t',self.mean())\n",
    "        print('Standard dev \\t',self.std())\n",
    "        print('Sharpe ratio \\t',self.sharpe())       \n",
    "    def report(self):\n",
    "        print('Mean \\t\\t',self.mean())\n",
    "        print('Standard dev \\t',self.std())\n",
    "        print('Sharpe ratio \\t',self.sharpe())\n",
    "        print('Standard Error \\t',self.stderr())\n",
    "        print('Share>0 \\t',self.pos_perc())\n",
    "        print('Skewness \\t',self.skewness())\n",
    "        print('Kurtosis \\t',self.kurtosis())\n",
    "        print('VaR_1 \\t\\t',self.VaR(1))\n",
    "        print('VaR_2 \\t\\t',self.VaR(2))\n",
    "        print('VaR_5 \\t\\t',self.VaR(5))\n",
    "        print('CVaR_1 \\t\\t',self.CVaR(1))\n",
    "        print('CVaR_2 \\t\\t',self.CVaR(2))\n",
    "        print('CVaR_5 \\t\\t',self.CVaR(5))\n",
    "        print('MDD \\t\\t',self.MDD())\n",
    "        print(self.percentiles())"
   ]
  },
  {
   "cell_type": "code",
   "execution_count": 52,
   "id": "e8811e85",
   "metadata": {},
   "outputs": [
    {
     "data": {
      "text/plain": [
       "<AxesSubplot:>"
      ]
     },
     "execution_count": 52,
     "metadata": {},
     "output_type": "execute_result"
    },
    {
     "data": {
      "image/png": "[encoded data removed]",
      "text/plain": [
       "<Figure size 1152x432 with 1 Axes>"
      ]
     },
     "metadata": {
      "needs_background": "light"
     },
     "output_type": "display_data"
    }
   ],
   "source": [
    "d['Open'].plot(figsize=(16,6))"
   ]
  },
  {
   "cell_type": "code",
   "execution_count": 53,
   "id": "9b20f0b1",
   "metadata": {},
   "outputs": [
    {
     "data": {
      "text/plain": [
       "<AxesSubplot:>"
      ]
     },
     "execution_count": 53,
     "metadata": {},
     "output_type": "execute_result"
    },
    {
     "data": {
      "image/png": "[encoded data removed]",
      "text/plain": [
       "<Figure size 1152x432 with 1 Axes>"
      ]
     },
     "metadata": {
      "needs_background": "light"
     },
     "output_type": "display_data"
    }
   ],
   "source": [
    "d['Open'].plot(figsize=(16,6))\n",
    "d.rolling(window=30).mean()['Close'].plot()"
   ]
  },
  {
   "cell_type": "code",
   "execution_count": 55,
   "id": "7dbc0871",
   "metadata": {},
   "outputs": [
    {
     "data": {
      "text/html": [
       "<div>\n",
       "<style scoped>\n",
       "    .dataframe tbody tr th:only-of-type {\n",
       "        vertical-align: middle;\n",
       "    }\n",
       "\n",
       "    .dataframe tbody tr th {\n",
       "        vertical-align: top;\n",
       "    }\n",
       "\n",
       "    .dataframe thead th {\n",
       "        text-align: right;\n",
       "    }\n",
       "</style>\n",
       "<table border=\"1\" class=\"dataframe\">\n",
       "  <thead>\n",
       "    <tr style=\"text-align: right;\">\n",
       "      <th></th>\n",
       "      <th>Open</th>\n",
       "      <th>High</th>\n",
       "      <th>Low</th>\n",
       "      <th>Close</th>\n",
       "      <th>Adj Close</th>\n",
       "      <th>Volume</th>\n",
       "    </tr>\n",
       "  </thead>\n",
       "  <tbody>\n",
       "    <tr>\n",
       "      <th>0</th>\n",
       "      <td>NaN</td>\n",
       "      <td>NaN</td>\n",
       "      <td>NaN</td>\n",
       "      <td>NaN</td>\n",
       "      <td>NaN</td>\n",
       "      <td>NaN</td>\n",
       "    </tr>\n",
       "    <tr>\n",
       "      <th>1</th>\n",
       "      <td>NaN</td>\n",
       "      <td>NaN</td>\n",
       "      <td>NaN</td>\n",
       "      <td>NaN</td>\n",
       "      <td>NaN</td>\n",
       "      <td>NaN</td>\n",
       "    </tr>\n",
       "    <tr>\n",
       "      <th>2</th>\n",
       "      <td>NaN</td>\n",
       "      <td>NaN</td>\n",
       "      <td>NaN</td>\n",
       "      <td>NaN</td>\n",
       "      <td>NaN</td>\n",
       "      <td>NaN</td>\n",
       "    </tr>\n",
       "    <tr>\n",
       "      <th>3</th>\n",
       "      <td>NaN</td>\n",
       "      <td>NaN</td>\n",
       "      <td>NaN</td>\n",
       "      <td>NaN</td>\n",
       "      <td>NaN</td>\n",
       "      <td>NaN</td>\n",
       "    </tr>\n",
       "    <tr>\n",
       "      <th>4</th>\n",
       "      <td>NaN</td>\n",
       "      <td>NaN</td>\n",
       "      <td>NaN</td>\n",
       "      <td>NaN</td>\n",
       "      <td>NaN</td>\n",
       "      <td>NaN</td>\n",
       "    </tr>\n",
       "    <tr>\n",
       "      <th>5</th>\n",
       "      <td>NaN</td>\n",
       "      <td>NaN</td>\n",
       "      <td>NaN</td>\n",
       "      <td>NaN</td>\n",
       "      <td>NaN</td>\n",
       "      <td>NaN</td>\n",
       "    </tr>\n",
       "    <tr>\n",
       "      <th>6</th>\n",
       "      <td>474.535714</td>\n",
       "      <td>481.196429</td>\n",
       "      <td>470.882141</td>\n",
       "      <td>477.339286</td>\n",
       "      <td>457.105796</td>\n",
       "      <td>6.187425e+06</td>\n",
       "    </tr>\n",
       "    <tr>\n",
       "      <th>7</th>\n",
       "      <td>478.171430</td>\n",
       "      <td>484.989288</td>\n",
       "      <td>474.621425</td>\n",
       "      <td>481.274998</td>\n",
       "      <td>460.874682</td>\n",
       "      <td>7.406752e+06</td>\n",
       "    </tr>\n",
       "    <tr>\n",
       "      <th>8</th>\n",
       "      <td>481.392857</td>\n",
       "      <td>487.853572</td>\n",
       "      <td>477.764282</td>\n",
       "      <td>483.500000</td>\n",
       "      <td>463.005371</td>\n",
       "      <td>7.458881e+06</td>\n",
       "    </tr>\n",
       "    <tr>\n",
       "      <th>9</th>\n",
       "      <td>483.696429</td>\n",
       "      <td>489.775003</td>\n",
       "      <td>480.546426</td>\n",
       "      <td>485.721431</td>\n",
       "      <td>465.132638</td>\n",
       "      <td>7.215235e+06</td>\n",
       "    </tr>\n",
       "    <tr>\n",
       "      <th>10</th>\n",
       "      <td>485.475002</td>\n",
       "      <td>491.992859</td>\n",
       "      <td>482.539281</td>\n",
       "      <td>487.396432</td>\n",
       "      <td>466.736629</td>\n",
       "      <td>7.271523e+06</td>\n",
       "    </tr>\n",
       "    <tr>\n",
       "      <th>11</th>\n",
       "      <td>486.853572</td>\n",
       "      <td>492.321433</td>\n",
       "      <td>483.278569</td>\n",
       "      <td>487.235718</td>\n",
       "      <td>466.582729</td>\n",
       "      <td>7.182540e+06</td>\n",
       "    </tr>\n",
       "    <tr>\n",
       "      <th>12</th>\n",
       "      <td>486.457145</td>\n",
       "      <td>490.967861</td>\n",
       "      <td>481.957140</td>\n",
       "      <td>484.621429</td>\n",
       "      <td>464.079254</td>\n",
       "      <td>6.573730e+06</td>\n",
       "    </tr>\n",
       "    <tr>\n",
       "      <th>13</th>\n",
       "      <td>483.592861</td>\n",
       "      <td>488.189287</td>\n",
       "      <td>479.242855</td>\n",
       "      <td>481.896432</td>\n",
       "      <td>461.469766</td>\n",
       "      <td>6.354310e+06</td>\n",
       "    </tr>\n",
       "    <tr>\n",
       "      <th>14</th>\n",
       "      <td>480.571433</td>\n",
       "      <td>485.264287</td>\n",
       "      <td>475.710711</td>\n",
       "      <td>478.239293</td>\n",
       "      <td>457.967643</td>\n",
       "      <td>4.999479e+06</td>\n",
       "    </tr>\n",
       "    <tr>\n",
       "      <th>15</th>\n",
       "      <td>477.607147</td>\n",
       "      <td>483.478572</td>\n",
       "      <td>472.764282</td>\n",
       "      <td>477.128575</td>\n",
       "      <td>456.904005</td>\n",
       "      <td>5.365919e+06</td>\n",
       "    </tr>\n",
       "    <tr>\n",
       "      <th>16</th>\n",
       "      <td>476.571433</td>\n",
       "      <td>482.000000</td>\n",
       "      <td>471.221427</td>\n",
       "      <td>475.342861</td>\n",
       "      <td>455.193983</td>\n",
       "      <td>6.057016e+06</td>\n",
       "    </tr>\n",
       "    <tr>\n",
       "      <th>17</th>\n",
       "      <td>474.621429</td>\n",
       "      <td>480.182142</td>\n",
       "      <td>469.214286</td>\n",
       "      <td>473.764287</td>\n",
       "      <td>453.682321</td>\n",
       "      <td>6.004932e+06</td>\n",
       "    </tr>\n",
       "    <tr>\n",
       "      <th>18</th>\n",
       "      <td>473.528573</td>\n",
       "      <td>480.307142</td>\n",
       "      <td>468.660714</td>\n",
       "      <td>474.510716</td>\n",
       "      <td>454.397108</td>\n",
       "      <td>6.153521e+06</td>\n",
       "    </tr>\n",
       "    <tr>\n",
       "      <th>19</th>\n",
       "      <td>474.275003</td>\n",
       "      <td>481.346427</td>\n",
       "      <td>470.357143</td>\n",
       "      <td>476.410719</td>\n",
       "      <td>456.216566</td>\n",
       "      <td>5.997655e+06</td>\n",
       "    </tr>\n",
       "  </tbody>\n",
       "</table>\n",
       "</div>"
      ],
      "text/plain": [
       "          Open        High         Low       Close   Adj Close        Volume\n",
       "0          NaN         NaN         NaN         NaN         NaN           NaN\n",
       "1          NaN         NaN         NaN         NaN         NaN           NaN\n",
       "2          NaN         NaN         NaN         NaN         NaN           NaN\n",
       "3          NaN         NaN         NaN         NaN         NaN           NaN\n",
       "4          NaN         NaN         NaN         NaN         NaN           NaN\n",
       "5          NaN         NaN         NaN         NaN         NaN           NaN\n",
       "6   474.535714  481.196429  470.882141  477.339286  457.105796  6.187425e+06\n",
       "7   478.171430  484.989288  474.621425  481.274998  460.874682  7.406752e+06\n",
       "8   481.392857  487.853572  477.764282  483.500000  463.005371  7.458881e+06\n",
       "9   483.696429  489.775003  480.546426  485.721431  465.132638  7.215235e+06\n",
       "10  485.475002  491.992859  482.539281  487.396432  466.736629  7.271523e+06\n",
       "11  486.853572  492.321433  483.278569  487.235718  466.582729  7.182540e+06\n",
       "12  486.457145  490.967861  481.957140  484.621429  464.079254  6.573730e+06\n",
       "13  483.592861  488.189287  479.242855  481.896432  461.469766  6.354310e+06\n",
       "14  480.571433  485.264287  475.710711  478.239293  457.967643  4.999479e+06\n",
       "15  477.607147  483.478572  472.764282  477.128575  456.904005  5.365919e+06\n",
       "16  476.571433  482.000000  471.221427  475.342861  455.193983  6.057016e+06\n",
       "17  474.621429  480.182142  469.214286  473.764287  453.682321  6.004932e+06\n",
       "18  473.528573  480.307142  468.660714  474.510716  454.397108  6.153521e+06\n",
       "19  474.275003  481.346427  470.357143  476.410719  456.216566  5.997655e+06"
      ]
     },
     "execution_count": 55,
     "metadata": {},
     "output_type": "execute_result"
    }
   ],
   "source": [
    "d.rolling(7).mean().head(20)"
   ]
  },
  {
   "cell_type": "code",
   "execution_count": 58,
   "id": "fa496b2d",
   "metadata": {},
   "outputs": [
    {
     "data": {
      "text/plain": [
       "<AxesSubplot:>"
      ]
     },
     "execution_count": 58,
     "metadata": {},
     "output_type": "execute_result"
    },
    {
     "data": {
      "image/png": "[encoded data removed]",
      "text/plain": [
       "<Figure size 1152x432 with 1 Axes>"
      ]
     },
     "metadata": {
      "needs_background": "light"
     },
     "output_type": "display_data"
    }
   ],
   "source": [
    "d['Close: 30 Day Mean'] = d['Close'].rolling(window=30).mean()\n",
    "d[['Close','Close: 30 Day Mean']].plot(figsize=(16,6))"
   ]
  },
  {
   "cell_type": "code",
   "execution_count": 59,
   "id": "cc5c0151",
   "metadata": {},
   "outputs": [
    {
     "data": {
      "text/plain": [
       "<AxesSubplot:>"
      ]
     },
     "execution_count": 59,
     "metadata": {},
     "output_type": "execute_result"
    },
    {
     "data": {
      "image/png": "[encoded data removed]",
      "text/plain": [
       "<Figure size 1152x432 with 1 Axes>"
      ]
     },
     "metadata": {
      "needs_background": "light"
     },
     "output_type": "display_data"
    }
   ],
   "source": [
    "d['Close'].expanding(min_periods=1).mean().plot(figsize=(16,6))"
   ]
  },
  {
   "cell_type": "code",
   "execution_count": 60,
   "id": "79ba2385",
   "metadata": {},
   "outputs": [],
   "source": [
    "training_set=d['Open']\n",
    "training_set=pd.DataFrame(training_set)"
   ]
  },
  {
   "cell_type": "code",
   "execution_count": 61,
   "id": "b6c46b45",
   "metadata": {},
   "outputs": [],
   "source": [
    "# Feature Scaling\n",
    "from sklearn.preprocessing import MinMaxScaler\n",
    "sc = MinMaxScaler(feature_range = (0, 1))\n",
    "training_set_scaled = sc.fit_transform(training_set)"
   ]
  },
  {
   "cell_type": "code",
   "execution_count": 68,
   "id": "1d6da895",
   "metadata": {},
   "outputs": [
    {
     "data": {
      "text/plain": [
       "Date                  False\n",
       "Open                   True\n",
       "High                   True\n",
       "Low                    True\n",
       "Close                  True\n",
       "Adj Close              True\n",
       "Volume                 True\n",
       "Close: 30 Day Mean     True\n",
       "dtype: bool"
      ]
     },
     "execution_count": 68,
     "metadata": {},
     "output_type": "execute_result"
    }
   ],
   "source": [
    "d.isna().any()"
   ]
  },
  {
   "cell_type": "code",
   "execution_count": 69,
   "id": "fc732fa2",
   "metadata": {},
   "outputs": [
    {
     "name": "stdout",
     "output_type": "stream",
     "text": [
      "<class 'pandas.core.frame.DataFrame'>\n",
      "RangeIndex: 1233 entries, 0 to 1232\n",
      "Data columns (total 8 columns):\n",
      " #   Column              Non-Null Count  Dtype  \n",
      "---  ------              --------------  -----  \n",
      " 0   Date                1233 non-null   object \n",
      " 1   Open                1232 non-null   float64\n",
      " 2   High                1232 non-null   float64\n",
      " 3   Low                 1232 non-null   float64\n",
      " 4   Close               1232 non-null   float64\n",
      " 5   Adj Close           1232 non-null   float64\n",
      " 6   Volume              1232 non-null   float64\n",
      " 7   Close: 30 Day Mean  1174 non-null   float64\n",
      "dtypes: float64(7), object(1)\n",
      "memory usage: 77.2+ KB\n"
     ]
    }
   ],
   "source": [
    "d.info()"
   ]
  },
  {
   "cell_type": "code",
   "execution_count": null,
   "id": "8cdfc0fd",
   "metadata": {},
   "outputs": [],
   "source": []
  }
 ],
 "metadata": {
  "kernelspec": {
   "display_name": "Python 3",
   "language": "python",
   "name": "python3"
  },
  "language_info": {
   "codemirror_mode": {
    "name": "ipython",
    "version": 3
   },
   "file_extension": ".py",
   "mimetype": "text/x-python",
   "name": "python",
   "nbconvert_exporter": "python",
   "pygments_lexer": "ipython3",
   "version": "3.8.8"
  }
 },
 "nbformat": 4,
 "nbformat_minor": 5
}
